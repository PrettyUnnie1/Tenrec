{
 "cells": [
  {
   "cell_type": "code",
   "execution_count": 1,
   "id": "d64e7ac8",
   "metadata": {},
   "outputs": [],
   "source": [
    "import pandas as pd\n",
    "import numpy as np\n",
    "import torch\n",
    "import torch.nn as nn\n",
    "import torch.optim as optim\n",
    "from sklearn.model_selection import train_test_split\n",
    "from sklearn.preprocessing import StandardScaler\n",
    "from torch.utils.data import Dataset, DataLoader"
   ]
  },
  {
   "cell_type": "code",
   "execution_count": 2,
   "id": "37f9a1c4",
   "metadata": {},
   "outputs": [
    {
     "data": {
      "text/html": [
       "<div>\n",
       "<style scoped>\n",
       "    .dataframe tbody tr th:only-of-type {\n",
       "        vertical-align: middle;\n",
       "    }\n",
       "\n",
       "    .dataframe tbody tr th {\n",
       "        vertical-align: top;\n",
       "    }\n",
       "\n",
       "    .dataframe thead th {\n",
       "        text-align: right;\n",
       "    }\n",
       "</style>\n",
       "<table border=\"1\" class=\"dataframe\">\n",
       "  <thead>\n",
       "    <tr style=\"text-align: right;\">\n",
       "      <th></th>\n",
       "      <th>user_id</th>\n",
       "      <th>item_id</th>\n",
       "      <th>click</th>\n",
       "      <th>follow</th>\n",
       "      <th>like</th>\n",
       "      <th>share</th>\n",
       "      <th>video_category</th>\n",
       "      <th>watching_times</th>\n",
       "      <th>gender</th>\n",
       "      <th>age</th>\n",
       "    </tr>\n",
       "  </thead>\n",
       "  <tbody>\n",
       "    <tr>\n",
       "      <th>0</th>\n",
       "      <td>1</td>\n",
       "      <td>1</td>\n",
       "      <td>1</td>\n",
       "      <td>0</td>\n",
       "      <td>0</td>\n",
       "      <td>0</td>\n",
       "      <td>1</td>\n",
       "      <td>1</td>\n",
       "      <td>1</td>\n",
       "      <td>4</td>\n",
       "    </tr>\n",
       "    <tr>\n",
       "      <th>1</th>\n",
       "      <td>1</td>\n",
       "      <td>2</td>\n",
       "      <td>1</td>\n",
       "      <td>0</td>\n",
       "      <td>0</td>\n",
       "      <td>0</td>\n",
       "      <td>1</td>\n",
       "      <td>1</td>\n",
       "      <td>1</td>\n",
       "      <td>4</td>\n",
       "    </tr>\n",
       "    <tr>\n",
       "      <th>2</th>\n",
       "      <td>1</td>\n",
       "      <td>3</td>\n",
       "      <td>1</td>\n",
       "      <td>0</td>\n",
       "      <td>0</td>\n",
       "      <td>0</td>\n",
       "      <td>0</td>\n",
       "      <td>1</td>\n",
       "      <td>1</td>\n",
       "      <td>4</td>\n",
       "    </tr>\n",
       "    <tr>\n",
       "      <th>3</th>\n",
       "      <td>1</td>\n",
       "      <td>4</td>\n",
       "      <td>0</td>\n",
       "      <td>0</td>\n",
       "      <td>0</td>\n",
       "      <td>0</td>\n",
       "      <td>1</td>\n",
       "      <td>0</td>\n",
       "      <td>1</td>\n",
       "      <td>4</td>\n",
       "    </tr>\n",
       "    <tr>\n",
       "      <th>4</th>\n",
       "      <td>2</td>\n",
       "      <td>5</td>\n",
       "      <td>1</td>\n",
       "      <td>0</td>\n",
       "      <td>0</td>\n",
       "      <td>0</td>\n",
       "      <td>1</td>\n",
       "      <td>1</td>\n",
       "      <td>1</td>\n",
       "      <td>4</td>\n",
       "    </tr>\n",
       "  </tbody>\n",
       "</table>\n",
       "</div>"
      ],
      "text/plain": [
       "   user_id  item_id  click  follow  like  share video_category  \\\n",
       "0        1        1      1       0     0      0              1   \n",
       "1        1        2      1       0     0      0              1   \n",
       "2        1        3      1       0     0      0              0   \n",
       "3        1        4      0       0     0      0              1   \n",
       "4        2        5      1       0     0      0              1   \n",
       "\n",
       "   watching_times  gender  age  \n",
       "0               1       1    4  \n",
       "1               1       1    4  \n",
       "2               1       1    4  \n",
       "3               0       1    4  \n",
       "4               1       1    4  "
      ]
     },
     "execution_count": 2,
     "metadata": {},
     "output_type": "execute_result"
    }
   ],
   "source": [
    "df = pd.read_csv(\"../Dataset/QK-video_subset_5M.csv\")\n",
    "df.head()"
   ]
  },
  {
   "cell_type": "code",
   "execution_count": 3,
   "id": "fa420a23",
   "metadata": {},
   "outputs": [],
   "source": [
    "categorical_cols = ['user_id', 'item_id', 'video_category', 'gender', 'age']\n",
    "numeric_cols = ['watching_times']\n",
    "target_col = 'click'\n",
    "\n",
    "# Encode categorical thành index\n",
    "feature_index = {}\n",
    "for feat in categorical_cols:\n",
    "    df[feat] = df[feat].astype(str)\n",
    "    unique_vals = df[feat].unique()\n",
    "    feature_index[feat] = {v: i for i, v in enumerate(unique_vals)}\n",
    "    df[feat] = df[feat].map(feature_index[feat])\n",
    "\n",
    "# Scale numeric\n",
    "scaler = StandardScaler()\n",
    "df[numeric_cols] = scaler.fit_transform(df[numeric_cols])"
   ]
  },
  {
   "cell_type": "code",
   "execution_count": 4,
   "id": "34ae4a9b",
   "metadata": {},
   "outputs": [],
   "source": [
    "train_df, test_df = train_test_split(df, test_size=0.2, random_state=42)"
   ]
  },
  {
   "cell_type": "code",
   "execution_count": 5,
   "id": "52aa8f2b",
   "metadata": {},
   "outputs": [],
   "source": [
    "class DeepFMDataset(Dataset):\n",
    "    def __init__(self, dataframe, cat_cols, num_cols, target_col):\n",
    "        self.cat_data = dataframe[cat_cols].values.astype(np.int64)\n",
    "        self.num_data = dataframe[num_cols].values.astype(np.float32)\n",
    "        self.labels = dataframe[target_col].values.astype(np.float32)\n",
    "\n",
    "    def __len__(self):\n",
    "        return len(self.labels)\n",
    "\n",
    "    def __getitem__(self, idx):\n",
    "        return (\n",
    "            torch.tensor(self.cat_data[idx]),\n",
    "            torch.tensor(self.num_data[idx]),\n",
    "            torch.tensor(self.labels[idx])\n",
    "        )\n",
    "\n",
    "train_dataset = DeepFMDataset(train_df, categorical_cols, numeric_cols, target_col)\n",
    "test_dataset = DeepFMDataset(test_df, categorical_cols, numeric_cols, target_col)\n",
    "\n",
    "train_loader = DataLoader(train_dataset, batch_size=512, shuffle=True)\n",
    "test_loader = DataLoader(test_dataset, batch_size=512)\n"
   ]
  },
  {
   "cell_type": "code",
   "execution_count": 6,
   "id": "c163e85d",
   "metadata": {},
   "outputs": [],
   "source": [
    "class DeepFM(nn.Module):\n",
    "    def __init__(self, cat_dims, num_dim, embed_dim=8, hidden_dims=[128, 64]):\n",
    "        super(DeepFM, self).__init__()\n",
    "        self.embeddings = nn.ModuleList([\n",
    "            nn.Embedding(cat_dim, embed_dim) for cat_dim in cat_dims\n",
    "        ])\n",
    "        self.linear = nn.Linear(len(cat_dims) * embed_dim + num_dim, 1)\n",
    "\n",
    "        dnn_input_dim = len(cat_dims) * embed_dim + num_dim\n",
    "        layers = []\n",
    "        for h in hidden_dims:\n",
    "            layers.append(nn.Linear(dnn_input_dim, h))\n",
    "            layers.append(nn.ReLU())\n",
    "            dnn_input_dim = h\n",
    "        layers.append(nn.Linear(dnn_input_dim, 1))\n",
    "        self.dnn = nn.Sequential(*layers)\n",
    "\n",
    "    def fm_layer(self, x):\n",
    "        sum_square = torch.sum(x, dim=1) ** 2\n",
    "        square_sum = torch.sum(x ** 2, dim=1)\n",
    "        return 0.5 * torch.sum(sum_square - square_sum, dim=1, keepdim=True)\n",
    "\n",
    "    def forward(self, cat_feats, num_feats):\n",
    "        embed = [emb(cat_feats[:, i]) for i, emb in enumerate(self.embeddings)]\n",
    "        embed = torch.stack(embed, dim=1)\n",
    "        embed_flat = embed.view(embed.size(0), -1)\n",
    "        x = torch.cat([embed_flat, num_feats], dim=1)\n",
    "\n",
    "        linear_out = self.linear(x)\n",
    "        fm_out = self.fm_layer(embed)\n",
    "        dnn_out = self.dnn(x)\n",
    "\n",
    "        return torch.sigmoid(linear_out + fm_out + dnn_out)\n"
   ]
  },
  {
   "cell_type": "code",
   "execution_count": 8,
   "id": "ab86aa4a",
   "metadata": {},
   "outputs": [
    {
     "name": "stdout",
     "output_type": "stream",
     "text": [
      "cuda\n"
     ]
    }
   ],
   "source": [
    "print(device)"
   ]
  },
  {
   "cell_type": "code",
   "execution_count": 9,
   "id": "bebedf80",
   "metadata": {},
   "outputs": [
    {
     "name": "stdout",
     "output_type": "stream",
     "text": [
      "Epoch 1 | Loss: 0.5947\n",
      "Epoch 2 | Loss: 0.4944\n",
      "Epoch 3 | Loss: 0.4629\n",
      "Epoch 4 | Loss: 0.4368\n",
      "Epoch 5 | Loss: 0.4138\n",
      "Epoch 6 | Loss: 0.3914\n",
      "Epoch 7 | Loss: 0.3687\n",
      "Epoch 8 | Loss: 0.3461\n",
      "Epoch 9 | Loss: 0.3232\n",
      "Epoch 10 | Loss: 0.3009\n"
     ]
    }
   ],
   "source": [
    "device = torch.device(\"cuda\" if torch.cuda.is_available() else \"cpu\")\n",
    "cat_dims = [len(feature_index[feat]) for feat in categorical_cols]\n",
    "model = DeepFM(cat_dims, len(numeric_cols)).to(device)\n",
    "\n",
    "criterion = nn.BCELoss()\n",
    "optimizer = optim.Adam(model.parameters(), lr=0.001)\n",
    "\n",
    "for epoch in range(10):\n",
    "    model.train()\n",
    "    total_loss = 0\n",
    "\n",
    "    for cat_feats, num_feats, labels in train_loader:\n",
    "        cat_feats, num_feats, labels = cat_feats.to(device), num_feats.to(device), labels.to(device).unsqueeze(1)\n",
    "        optimizer.zero_grad()\n",
    "        outputs = model(cat_feats, num_feats)\n",
    "        loss = criterion(outputs, labels)\n",
    "        loss.backward()\n",
    "        optimizer.step()\n",
    "        total_loss += loss.item()\n",
    "\n",
    "    print(f\"Epoch {epoch+1} | Loss: {total_loss / len(train_loader):.4f}\")\n"
   ]
  },
  {
   "cell_type": "code",
   "execution_count": 10,
   "id": "f8f959f9",
   "metadata": {},
   "outputs": [
    {
     "name": "stdout",
     "output_type": "stream",
     "text": [
      "✅ Accuracy: 0.749987\n",
      "✅ Precision: 0.6976914015830868\n",
      "✅ Recall: 0.6372136643804112\n",
      "✅ F1 Score: 0.666082564138865\n"
     ]
    }
   ],
   "source": [
    "from sklearn.metrics import accuracy_score, precision_score, recall_score, f1_score\n",
    "\n",
    "model.eval()\n",
    "all_preds = []\n",
    "all_labels = []\n",
    "\n",
    "with torch.no_grad():\n",
    "    for cat_feats, num_feats, labels in test_loader:\n",
    "        cat_feats, num_feats = cat_feats.to(device), num_feats.to(device)\n",
    "        outputs = model(cat_feats, num_feats).cpu().numpy()\n",
    "        all_preds.extend((outputs > 0.5).astype(int).flatten())\n",
    "        all_labels.extend(labels.numpy().flatten())\n",
    "\n",
    "print(\"✅ Accuracy:\", accuracy_score(all_labels, all_preds))\n",
    "print(\"✅ Precision:\", precision_score(all_labels, all_preds))\n",
    "print(\"✅ Recall:\", recall_score(all_labels, all_preds))\n",
    "print(\"✅ F1 Score:\", f1_score(all_labels, all_preds))\n"
   ]
  },
  {
   "cell_type": "code",
   "execution_count": 13,
   "id": "a3a95ed5",
   "metadata": {},
   "outputs": [
    {
     "name": "stdout",
     "output_type": "stream",
     "text": [
      "✅ DeepFM ROC AUC: 0.8224\n"
     ]
    },
    {
     "data": {
      "image/png": "[encoded data removed]",
      "text/plain": [
       "<Figure size 600x500 with 1 Axes>"
      ]
     },
     "metadata": {},
     "output_type": "display_data"
    },
    {
     "data": {
      "image/png": "[encoded data removed]",
      "text/plain": [
       "<Figure size 600x500 with 1 Axes>"
      ]
     },
     "metadata": {},
     "output_type": "display_data"
    }
   ],
   "source": [
    "from sklearn.metrics import roc_auc_score, precision_recall_curve, roc_curve\n",
    "import matplotlib.pyplot as plt\n",
    "\n",
    "model.eval()\n",
    "all_probs = []\n",
    "all_labels = []\n",
    "\n",
    "with torch.no_grad():\n",
    "    for cat_feats, num_feats, labels in test_loader:\n",
    "        cat_feats, num_feats = cat_feats.to(device), num_feats.to(device)\n",
    "        outputs = model(cat_feats, num_feats).cpu().numpy()\n",
    "        all_probs.extend(outputs.flatten())\n",
    "        all_labels.extend(labels.numpy().flatten())\n",
    "\n",
    "auc = roc_auc_score(all_labels, all_probs)\n",
    "print(f\"✅ DeepFM ROC AUC: {auc:.4f}\")\n",
    "\n",
    "# Vẽ ROC Curve\n",
    "fpr, tpr, _ = roc_curve(all_labels, all_probs)\n",
    "plt.figure(figsize=(6, 5))\n",
    "plt.plot(fpr, tpr, label=f\"DeepFM (AUC = {auc:.4f})\")\n",
    "plt.plot([0, 1], [0, 1], linestyle=\"--\")\n",
    "plt.xlabel(\"False Positive Rate\")\n",
    "plt.ylabel(\"True Positive Rate\")\n",
    "plt.title(\"ROC Curve - DeepFM\")\n",
    "plt.legend()\n",
    "plt.grid(True)\n",
    "plt.show()\n",
    "\n",
    "# Vẽ Precision-Recall Curve\n",
    "precision, recall, _ = precision_recall_curve(all_labels, all_probs)\n",
    "plt.figure(figsize=(6, 5))\n",
    "plt.plot(recall, precision, label=\"DeepFM\")\n",
    "plt.xlabel(\"Recall\")\n",
    "plt.ylabel(\"Precision\")\n",
    "plt.title(\"Precision-Recall Curve - DeepFM\")\n",
    "plt.legend()\n",
    "plt.grid(True)\n",
    "plt.show()\n"
   ]
  },
  {
   "cell_type": "code",
   "execution_count": 11,
   "id": "e070d9f9",
   "metadata": {},
   "outputs": [
    {
     "name": "stdout",
     "output_type": "stream",
     "text": [
      "✅ Đã lưu deepfm_model.pth\n",
      "✅ Đã lưu feature_index.pkl và scaler.pkl\n"
     ]
    }
   ],
   "source": [
    "import pickle\n",
    "import torch\n",
    "\n",
    "# Lưu mô hình\n",
    "torch.save(model.state_dict(), \"deepfm_model.pth\")\n",
    "print(\"✅ Đã lưu deepfm_model.pth\")\n",
    "\n",
    "# Lưu feature_index và scaler\n",
    "with open(\"feature_index.pkl\", \"wb\") as f:\n",
    "    pickle.dump(feature_index, f)\n",
    "\n",
    "with open(\"scaler.pkl\", \"wb\") as f:\n",
    "    pickle.dump(scaler, f)\n",
    "\n",
    "print(\"✅ Đã lưu feature_index.pkl và scaler.pkl\")\n"
   ]
  }
 ],
 "metadata": {
  "kernelspec": {
   "display_name": "tf215",
   "language": "python",
   "name": "python3"
  },
  "language_info": {
   "codemirror_mode": {
    "name": "ipython",
    "version": 3
   },
   "file_extension": ".py",
   "mimetype": "text/x-python",
   "name": "python",
   "nbconvert_exporter": "python",
   "pygments_lexer": "ipython3",
   "version": "3.10.16"
  }
 },
 "nbformat": 4,
 "nbformat_minor": 5
}
