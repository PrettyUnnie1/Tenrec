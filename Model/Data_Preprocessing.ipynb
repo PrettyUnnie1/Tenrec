{
 "cells": [
  {
   "cell_type": "code",
   "execution_count": 1,
   "id": "eab4185d",
   "metadata": {},
   "outputs": [
    {
     "name": "stdout",
     "output_type": "stream",
     "text": [
      "✅ Đã lưu ../Dataset/QK-video_subset_5M.csv với 5000000 dòng.\n"
     ]
    }
   ],
   "source": [
    "import pandas as pd\n",
    "\n",
    "input_file = \"../Dataset/QK-video.csv\"  # Đường dẫn đầy đủ trên máy bạn\n",
    "output_file = \"../Dataset/QK-video_subset_5M.csv\"\n",
    "\n",
    "target_rows = 5_000_000\n",
    "chunksize = 500_000\n",
    "\n",
    "subset_chunks = []\n",
    "total_rows = 0\n",
    "\n",
    "for chunk in pd.read_csv(input_file, chunksize=chunksize):\n",
    "    if total_rows + len(chunk) >= target_rows:\n",
    "        remaining = target_rows - total_rows\n",
    "        subset_chunks.append(chunk.iloc[:remaining])\n",
    "        break\n",
    "    else:\n",
    "        subset_chunks.append(chunk)\n",
    "        total_rows += len(chunk)\n",
    "\n",
    "subset_df = pd.concat(subset_chunks, ignore_index=True)\n",
    "subset_df.to_csv(output_file, index=False)\n",
    "\n",
    "print(f\"✅ Đã lưu {output_file} với {subset_df.shape[0]} dòng.\")"
   ]
  },
  {
   "cell_type": "code",
   "execution_count": 2,
   "id": "7287fb31",
   "metadata": {},
   "outputs": [
    {
     "name": "stdout",
     "output_type": "stream",
     "text": [
      "   user_id  item_id  click  follow  like  share video_category  \\\n",
      "0        1        1      1       0     0      0              1   \n",
      "1        1        2      1       0     0      0              1   \n",
      "2        1        3      1       0     0      0              0   \n",
      "3        1        4      0       0     0      0              1   \n",
      "4        2        5      1       0     0      0              1   \n",
      "\n",
      "   watching_times  gender  age  \n",
      "0               1       1    4  \n",
      "1               1       1    4  \n",
      "2               1       1    4  \n",
      "3               0       1    4  \n",
      "4               1       1    4  \n"
     ]
    }
   ],
   "source": [
    "import pandas as pd\n",
    "\n",
    "df = pd.read_csv('../Dataset/QK-video_subset_5M.csv')\n",
    "print(df.head(5))"
   ]
  }
 ],
 "metadata": {
  "kernelspec": {
   "display_name": "tf215",
   "language": "python",
   "name": "python3"
  },
  "language_info": {
   "codemirror_mode": {
    "name": "ipython",
    "version": 3
   },
   "file_extension": ".py",
   "mimetype": "text/x-python",
   "name": "python",
   "nbconvert_exporter": "python",
   "pygments_lexer": "ipython3",
   "version": "3.10.16"
  }
 },
 "nbformat": 4,
 "nbformat_minor": 5
}
